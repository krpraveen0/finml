{
 "cells": [
  {
   "cell_type": "markdown",
   "id": "4c00fc6e",
   "metadata": {},
   "source": [
    "---\n",
    "title: Building a Credit Scoring Model using Supervised ML\n",
    "week: 3\n",
    "author: Praveen Kumar\n",
    "date: 2025-10-07\n",
    "version: v1.0\n",
    "---\n",
    "# Week 3: Building a Credit Scoring Model using Supervised ML\n",
    "This notebook demonstrates supervised classification for credit scoring using Logistic Regression and Random Forest."
   ]
  },
  {
   "cell_type": "code",
   "execution_count": null,
   "id": "f70404ee",
   "metadata": {},
   "outputs": [],
   "source": [
    "# Parameters\n",
    "SEED = 42\n",
    "SAMPLE_MODE = True\n",
    "DATA_PATH = 'data/synthetic/credit_scoring.csv'"
   ]
  },
  {
   "cell_type": "code",
   "execution_count": null,
   "id": "2600fb42",
   "metadata": {},
   "outputs": [],
   "source": [
    "# Setup: Imports\n",
    "import pandas as pd\n",
    "import numpy as np\n",
    "import matplotlib.pyplot as plt\n",
    "import seaborn as sns\n",
    "from sklearn.model_selection import train_test_split\n",
    "from sklearn.preprocessing import LabelEncoder, StandardScaler\n",
    "from sklearn.metrics import confusion_matrix, classification_report, roc_auc_score, roc_curve, precision_recall_curve\n",
    "from sklearn.linear_model import LogisticRegression\n",
    "from sklearn.ensemble import RandomForestClassifier\n",
    "import warnings\n",
    "warnings.filterwarnings('ignore')"
   ]
  },
  {
   "cell_type": "markdown",
   "id": "4d433715",
   "metadata": {},
   "source": [
    "## Load Dataset\n",
    "Load synthetic or Kaggle credit scoring dataset."
   ]
  },
  {
   "cell_type": "code",
   "execution_count": null,
   "id": "223a3e83",
   "metadata": {},
   "outputs": [],
   "source": [
    "# Load data\n",
    "if SAMPLE_MODE:\n",
    "    df = pd.read_csv(DATA_PATH)\n",
    "else:\n",
    "    # TODO: Load Kaggle dataset if available\n",
    "    df = pd.read_csv(DATA_PATH)"
   ]
  },
  {
   "cell_type": "markdown",
   "id": "185ed6cf",
   "metadata": {},
   "source": [
    "## EDA: Class Balance & Missing Values\n",
    "Check target distribution and missing values."
   ]
  },
  {
   "cell_type": "code",
   "execution_count": null,
   "id": "15019119",
   "metadata": {},
   "outputs": [],
   "source": [
    "# EDA\n",
    "print('Class balance:')\n",
    "print(df['target'].value_counts(normalize=True))\n",
    "print('Missing values:')\n",
    "print(df.isnull().sum())\n",
    "print('Summary stats:')\n",
    "print(df.describe())"
   ]
  },
  {
   "cell_type": "markdown",
   "id": "aa2c119d",
   "metadata": {},
   "source": [
    "## Preprocessing\n",
    "Encode categorical features, standardize numerical features, handle imbalance."
   ]
  },
  {
   "cell_type": "code",
   "execution_count": null,
   "id": "1adbe550",
   "metadata": {},
   "outputs": [],
   "source": [
    "# Encode categorical features\n",
    "cat_cols = df.select_dtypes(include=['object']).columns.tolist()\n",
    "for col in cat_cols:\n",
    "    df[col] = LabelEncoder().fit_transform(df[col].astype(str))\n",
    "# Standardize numerical features\n",
    "num_cols = df.select_dtypes(include=['int64', 'float64']).columns.drop('target')\n",
    "scaler = StandardScaler()\n",
    "df[num_cols] = scaler.fit_transform(df[num_cols])"
   ]
  },
  {
   "cell_type": "code",
   "execution_count": null,
   "id": "1fb5a7cc",
   "metadata": {},
   "outputs": [],
   "source": [
    "# Split data\n",
    "X = df.drop('target', axis=1)\n",
    "y = df['target']\n",
    "X_train, X_test, y_train, y_test = train_test_split(X, y, test_size=0.2, random_state=SEED, stratify=y)"
   ]
  },
  {
   "cell_type": "markdown",
   "id": "8cb47cf2",
   "metadata": {},
   "source": [
    "## Train Models\n",
    "Logistic Regression and Random Forest."
   ]
  },
  {
   "cell_type": "code",
   "execution_count": null,
   "id": "9aedf4b5",
   "metadata": {},
   "outputs": [],
   "source": [
    "# Logistic Regression\n",
    "lr = LogisticRegression(class_weight='balanced', random_state=SEED)\n",
    "lr.fit(X_train, y_train)\n",
    "y_pred_lr = lr.predict(X_test)\n",
    "y_pred_lr_proba = lr.predict_proba(X_test)[:, 1]"
   ]
  },
  {
   "cell_type": "code",
   "execution_count": null,
   "id": "26a201df",
   "metadata": {},
   "outputs": [],
   "source": [
    "# Random Forest\n",
    "rf = RandomForestClassifier(class_weight='balanced', random_state=SEED)\n",
    "rf.fit(X_train, y_train)\n",
    "y_pred_rf = rf.predict(X_test)\n",
    "y_pred_rf_proba = rf.predict_proba(X_test)[:, 1]"
   ]
  },
  {
   "cell_type": "markdown",
   "id": "274f9c9c",
   "metadata": {},
   "source": [
    "## Evaluate Models\n",
    "Confusion Matrix, ROC Curve, Classification Report."
   ]
  },
  {
   "cell_type": "code",
   "execution_count": null,
   "id": "7cd919f1",
   "metadata": {},
   "outputs": [],
   "source": [
    "# Confusion Matrix\n",
    "cm_lr = confusion_matrix(y_test, y_pred_lr)\n",
    "cm_rf = confusion_matrix(y_test, y_pred_rf)\n",
    "fig, axes = plt.subplots(1, 2, figsize=(10, 4))\n",
    "sns.heatmap(cm_lr, annot=True, fmt='d', ax=axes[0], cmap='Blues')\n",
    "axes[0].set_title('Logistic Regression Confusion Matrix')\n",
    "sns.heatmap(cm_rf, annot=True, fmt='d', ax=axes[1], cmap='Greens')\n",
    "axes[1].set_title('Random Forest Confusion Matrix')\n",
    "plt.show()"
   ]
  },
  {
   "cell_type": "code",
   "execution_count": null,
   "id": "66942185",
   "metadata": {},
   "outputs": [],
   "source": [
    "# ROC Curve\n",
    "fpr_lr, tpr_lr, _ = roc_curve(y_test, y_pred_lr_proba)\n",
    "fpr_rf, tpr_rf, _ = roc_curve(y_test, y_pred_rf_proba)\n",
    "plt.figure(figsize=(8, 6))\n",
    "plt.plot(fpr_lr, tpr_lr, label='Logistic Regression')\n",
    "plt.plot(fpr_rf, tpr_rf, label='Random Forest')\n",
    "plt.plot([0, 1], [0, 1], 'k--')\n",
    "plt.xlabel('False Positive Rate')\n",
    "plt.ylabel('True Positive Rate')\n",
    "plt.title('ROC Curve')\n",
    "plt.legend()\n",
    "plt.show()"
   ]
  },
  {
   "cell_type": "code",
   "execution_count": null,
   "id": "5746568b",
   "metadata": {},
   "outputs": [],
   "source": [
    "# Classification Report\n",
    "print('Logistic Regression:')\n",
    "print(classification_report(y_test, y_pred_lr))\n",
    "print('Random Forest:')\n",
    "print(classification_report(y_test, y_pred_rf))"
   ]
  },
  {
   "cell_type": "markdown",
   "id": "333727fe",
   "metadata": {},
   "source": [
    "## Feature Importance & Interpretation\n",
    "Visualize feature importance and interpret coefficients."
   ]
  },
  {
   "cell_type": "code",
   "execution_count": null,
   "id": "58ace646",
   "metadata": {},
   "outputs": [],
   "source": [
    "# Logistic Regression Coefficients\n",
    "coef_df = pd.DataFrame({'feature': X.columns, 'coef': lr.coef_[0]})\n",
    "coef_df = coef_df.sort_values('coef', key=abs, ascending=False)\n",
    "print(coef_df.head(5))"
   ]
  },
  {
   "cell_type": "code",
   "execution_count": null,
   "id": "03b9c887",
   "metadata": {},
   "outputs": [],
   "source": [
    "# Random Forest Feature Importance\n",
    "fi_df = pd.DataFrame({'feature': X.columns, 'importance': rf.feature_importances_})\n",
    "fi_df = fi_df.sort_values('importance', ascending=False)\n",
    "print(fi_df.head(5))"
   ]
  },
  {
   "cell_type": "code",
   "execution_count": null,
   "id": "d0d095a5",
   "metadata": {},
   "outputs": [],
   "source": [
    "# Save predictions\n",
    "preds = pd.DataFrame({'y_true': y_test, 'lr_pred': y_pred_lr, 'rf_pred': y_pred_rf})\n",
    "preds.to_csv('/kaggle/working/predictions_week03.csv', index=False)"
   ]
  },
  {
   "cell_type": "markdown",
   "id": "d534097b",
   "metadata": {},
   "source": [
    "## Exercises\n",
    "1. TODO: Add SMOTE oversampling and compare ROC-AUC.\n",
    "2. TODO: Plot Precision-Recall Curve for both models.\n",
    "3. TODO: Compute SHAP feature importance for top 5 features."
   ]
  }
 ],
 "metadata": {
  "language_info": {
   "name": "python"
  }
 },
 "nbformat": 4,
 "nbformat_minor": 5
}
